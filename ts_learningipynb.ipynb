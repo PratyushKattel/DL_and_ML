{
  "cells": [
    {
      "cell_type": "markdown",
      "metadata": {
        "id": "view-in-github",
        "colab_type": "text"
      },
      "source": [
        "<a href=\"https://colab.research.google.com/github/PratyushKattel/DL_and_ML/blob/main/ts_learningipynb.ipynb\" target=\"_parent\"><img src=\"https://colab.research.google.com/assets/colab-badge.svg\" alt=\"Open In Colab\"/></a>"
      ]
    },
    {
      "cell_type": "code",
      "execution_count": null,
      "metadata": {
        "id": "xlH5dabB-aqo"
      },
      "outputs": [],
      "source": [
        "import pandas as pd\n",
        "import tensorflow as tf\n",
        "import keras\n",
        "from keras.applications.vgg16 import VGG16\n",
        "from keras.layers import Dense,Flatten\n",
        "from keras import Sequential"
      ]
    },
    {
      "cell_type": "code",
      "execution_count": null,
      "metadata": {
        "id": "FkhObKVp-lHi"
      },
      "outputs": [],
      "source": [
        "!mkdir -p ~/.kaggle\n",
        "!cp kaggle.json ~/.kaggle/"
      ]
    },
    {
      "cell_type": "code",
      "execution_count": null,
      "metadata": {
        "colab": {
          "base_uri": "https://localhost:8080/"
        },
        "id": "mS9XkdBb_Bzs",
        "outputId": "05f93a25-412d-4d68-b115-b615bcdf1d44"
      },
      "outputs": [
        {
          "name": "stdout",
          "output_type": "stream",
          "text": [
            "Warning: Your Kaggle API key is readable by other users on this system! To fix this, you can run 'chmod 600 /root/.kaggle/kaggle.json'\n",
            "Dataset URL: https://www.kaggle.com/datasets/eneskosar19/happy-or-sad-binary-image-classification\n",
            "License(s): other\n",
            "Downloading happy-or-sad-binary-image-classification.zip to /content\n",
            "  0% 0.00/28.7M [00:00<?, ?B/s]\n",
            "100% 28.7M/28.7M [00:00<00:00, 984MB/s]\n"
          ]
        }
      ],
      "source": [
        "!kaggle datasets download eneskosar19/happy-or-sad-binary-image-classification"
      ]
    },
    {
      "cell_type": "code",
      "execution_count": null,
      "metadata": {
        "colab": {
          "base_uri": "https://localhost:8080/"
        },
        "id": "nNRCPkUa_rne",
        "outputId": "208c415a-e852-40a9-f4cd-b7c2305083cd"
      },
      "outputs": [
        {
          "name": "stdout",
          "output_type": "stream",
          "text": [
            "Archive:  happy-or-sad-binary-image-classification.zip\n",
            "  inflating: face_classification/happy_person_face/-human-emotions-children-concept-beautiful-excited-optimistic-blue-236590722.jpg  \n",
            "  inflating: face_classification/happy_person_face/1000_F_185048528_i9zX0FC3Q8iDNb2E5hanWzN0KeJSXSy6.jpg  \n",
            "  inflating: face_classification/happy_person_face/1000_F_206825373_PfhE4TyHbpUXggBKdTLZYn0HcuRCP9rf.jpg  \n",
            "  inflating: face_classification/happy_person_face/1000_F_246149544_RZIU2J7fQKl9JVWZBeSvJHUCRtdjTqAl.jpg  \n",
            "  inflating: face_classification/happy_person_face/1000_F_254262588_wbdwGWgnETRzXZo49JBRLfkjnUybShBE.jpg  \n",
            "  inflating: face_classification/happy_person_face/1000_F_254492492_Wx1D8iuzMTQrLWsGuV3CczX2teZau4XG.jpg  \n",
            "  inflating: face_classification/happy_person_face/1000_F_267995900_qg8jfTCHvCijDkXC5HOlPBK0pZ0i0dlh.jpg  \n",
            "  inflating: face_classification/happy_person_face/1000_F_303704831_0lfmbfqH4z2wfPDUQZxMsRyA6Rw2Al61.jpg  \n",
            "  inflating: face_classification/happy_person_face/114303686-happy-littleC3A2E282ACE280B9-boy-smiley-face-C3A2E282ACE280B9-portrait-human-concept.jpg  \n",
            "  inflating: face_classification/happy_person_face/1566247441_4f49f3c7a4.jpg  \n",
            "  inflating: face_classification/happy_person_face/1615497546_73304.jpeg  \n",
            "  inflating: face_classification/happy_person_face/1920_face-new-675956.jpg  \n",
            "  inflating: face_classification/happy_person_face/19eedf58c6a884eaec995907d3b4fe95.jpg  \n",
            "  inflating: face_classification/happy_person_face/254hJanuary2017-22.jpg  \n",
            "  inflating: face_classification/happy_person_face/28-286344_clip-art-happy-human-face-transparent-man-face.png  \n",
            "  inflating: face_classification/happy_person_face/284ee55f19e0b2574e5699935cfc1136.jpg  \n",
            "  inflating: face_classification/happy_person_face/287691556.jpg  \n",
            "  inflating: face_classification/happy_person_face/292115365.jpg  \n",
            "  inflating: face_classification/happy_person_face/311964130.jpg  \n",
            "  inflating: face_classification/happy_person_face/313620493.jpg  \n",
            "  inflating: face_classification/happy_person_face/313625278.jpg  \n",
            "  inflating: face_classification/happy_person_face/318978451.jpg  \n",
            "  inflating: face_classification/happy_person_face/378ffa7b4bc07f190ee35f85ed816377.jpg  \n",
            "  inflating: face_classification/happy_person_face/50-506922_happy-man-happy-face-man-png.png  \n",
            "  inflating: face_classification/happy_person_face/500_F_246149573_1dbnEopMZjSflWG4ZvojXhVVV8cTewTW.jpg  \n",
            "  inflating: face_classification/happy_person_face/538692449_cb1853bb50.jpg  \n",
            "  inflating: face_classification/happy_person_face/65-658184_happy-man-happy-man-cartoon-face.png  \n",
            "  inflating: face_classification/happy_person_face/65-658471_happy-man-happy-man-face-png.png  \n",
            "  inflating: face_classification/happy_person_face/77087478-headshot-of-happy-face-of-asian-man-with-beard-and-mustache.jpg  \n",
            "  inflating: face_classification/happy_person_face/9-happy-man-ian-hootonscience-photo-library.jpg  \n",
            "  inflating: face_classification/happy_person_face/93232056-happy-face-portrait-of-a-happy-nice-delighted-man-smiling-while-looking-at-you.jpg  \n",
            "  inflating: face_classification/happy_person_face/GGIA-HumanFace_-_abcdef_-_d5e982cf0c8784ce57e31967e85af0c792362c71.jpg  \n",
            "  inflating: face_classification/happy_person_face/Happy-Girl.png  \n",
            "  inflating: face_classification/happy_person_face/Proposed-3D-happy-face-of-virtual-human.gif  \n",
            "  inflating: face_classification/happy_person_face/The_joy_of_the_happy_face_by_Rasheedhrasheed.jpg  \n",
            "  inflating: face_classification/happy_person_face/appy-face-human-emotion-expression-african-american-having-fun-joy-145301119.jpg  \n",
            "  inflating: face_classification/happy_person_face/appy-face-human-emotion-expression-african-american-having-fun-joy-154266727.jpg  \n",
            "  inflating: face_classification/happy_person_face/aughing-showing-victory-gesture-in-happy-face-facial-expression-human-RGB0PF.jpg  \n",
            "  inflating: face_classification/happy_person_face/aughing-showing-victory-gesture-in-happy-face-facial-expression-human-T4YJKH.jpg  \n",
            "  inflating: face_classification/happy_person_face/boy-with-happy-face-standing-vector-18006768.jpg  \n",
            "  inflating: face_classification/happy_person_face/cartoon-character-of-happy-man-face-vector.jpg  \n",
            "  inflating: face_classification/happy_person_face/character-man-face-happy-smile-cartoon-JWN5MR.jpg  \n",
            "  inflating: face_classification/happy_person_face/child-happy-smiling-son-man-bebe.jpg  \n",
            "  inflating: face_classification/happy_person_face/colorful-cartoon-human-female-happy-face-vector-13895179.jpg  \n",
            "  inflating: face_classification/happy_person_face/d-wearing-sport-wear-smiling-with-happy-face-looking-with-thumb-up_1258-4819.jpg  \n",
            "  inflating: face_classification/happy_person_face/depositphotos_125578920-stock-illustration-happy-face-super-joyful-person.jpg  \n",
            "  inflating: face_classification/happy_person_face/depositphotos_241357492-stock-photo-close-portrait-young-caucasian-man.jpg  \n",
            "  inflating: face_classification/happy_person_face/depositphotos_52879227-stock-photo-young-male-smiling-face.jpg  \n",
            "  inflating: face_classification/happy_person_face/e-expressions-concept-happy-positive-cheerful-smiling-woman-with-blonde-hair.jpg  \n",
            "  inflating: face_classification/happy_person_face/ec58198c3f652de85e735d918ef85dd8.jpg  \n",
            "  inflating: face_classification/happy_person_face/emotions-man-happy-sad-face-adult-wallpaper.jpg  \n",
            "  inflating: face_classification/happy_person_face/excited-black-lady-screaming-touching-face-posing-over-blue-background-2B7JCPN.jpg  \n",
            "  inflating: face_classification/happy_person_face/face-161083_960_720.png  \n",
            "  inflating: face_classification/happy_person_face/face-of-happy-man-icon-vector-10064867.jpg  \n",
            "  inflating: face_classification/happy_person_face/finishedhappyexpressiondrawing.jpg  \n",
            "  inflating: face_classification/happy_person_face/girl-smiling-happy-face-wallpaper-preview.jpg  \n",
            "  inflating: face_classification/happy_person_face/handsome-cheerful-man-with-happy-smile_176420-18028.jpg  \n",
            "  inflating: face_classification/happy_person_face/handsome-man-smiling-happy-face-portrait-close-up_53876-145493.jpg  \n",
            "  inflating: face_classification/happy_person_face/handsome-man-smiling-happy-face-portrait-close-up_53876-146189.jpg  \n",
            "  inflating: face_classification/happy_person_face/happy-2191132_1280.jpg  \n",
            "  inflating: face_classification/happy_person_face/happy-excited-man-face-26522271.jpg  \n",
            "  inflating: face_classification/happy_person_face/happy-male-face-smile-character-funny-vector-15696188.jpg  \n",
            "  inflating: face_classification/happy_person_face/happy-man-laughs-human-emotions-avatar-with-happy-men-vector.jpg  \n",
            "  inflating: face_classification/happy_person_face/happy-man-with-snow-covered-face-at-winter-park-EYAF02506.jpg  \n",
            "  inflating: face_classification/happy_person_face/happy-smile.jpg  \n",
            "  inflating: face_classification/happy_person_face/idollisimoman160600043.jpg  \n",
            "  inflating: face_classification/happy_person_face/images17.jpg  \n",
            "  inflating: face_classification/happy_person_face/images20.jpg  \n",
            "  inflating: face_classification/happy_person_face/images27.jpg  \n",
            "  inflating: face_classification/happy_person_face/item-01-happy-man-face-11563068808gp9ou32sbx.png  \n",
            "  inflating: face_classification/happy_person_face/ith-big-smile-for-announcement-winning-and-omg-for-joy-in-studio-fit_400_400.jpg  \n",
            "  inflating: face_classification/happy_person_face/lovepik-happy-man-face-picture_501492320.jpg  \n",
            "  inflating: face_classification/happy_person_face/man-face-png-5a3a77f26a17c3.30818320151378123443462589.jpg  \n",
            "  inflating: face_classification/happy_person_face/man-with-happy-face-vector-11820400.jpg  \n",
            "  inflating: face_classification/happy_person_face/mane-man-sketch-chido-3.jpg  \n",
            "  inflating: face_classification/happy_person_face/maxresdefault.jpg  \n",
            "  inflating: face_classification/happy_person_face/oadly-has-pleased-expression-laughs-something-funny-closes-eyes_273609-16781.jpg  \n",
            "  inflating: face_classification/happy_person_face/people-happy-face-man-icon_24640-19217.jpg  \n",
            "  inflating: face_classification/happy_person_face/png-clipart-man-doing-thumbs-up-very-happy-bearded-man-people-men.png  \n",
            "  inflating: face_classification/happy_person_face/png-transparent-face-smile-woman-happy-beauty-miscellaneous-face-human.png  \n",
            "  inflating: face_classification/happy_person_face/png-transparent-graphy-happy-woman-face-hand-photography.png  \n",
            "  inflating: face_classification/happy_person_face/png-transparent-woman-happiness-smile-black-woman-love-microphone-face-thumbnail.png  \n",
            "  inflating: face_classification/happy_person_face/pngtree-person-holding-round-yellow-ball-with-happy-face-picture-image_3053379.jpg  \n",
            "  inflating: face_classification/happy_person_face/sex-love-life-blogs-smitten-0525-what-women-want-men-smile_sm.jpg  \n",
            "  inflating: face_classification/happy_person_face/shutterstock_69235000.jpg  \n",
            "  inflating: face_classification/happy_person_face/silhouette-cartoon-human-female-happy-face-vector-13896056.jpg  \n",
            "  inflating: face_classification/happy_person_face/smiling-makes-you-happy-1.jpg  \n",
            "  inflating: face_classification/happy_person_face/stock-photo-happy-man-face-523985080.jpg  \n",
            "  inflating: face_classification/happy_person_face/th-surprised-and-happy-face-and-gestures-in-facial-expression-human-e-RY38MK.jpg  \n",
            "  inflating: face_classification/happy_person_face/ul-silly-and-happiness-pose-dreaming-about-an-idea-with-backdrop-fit_400_400.jpg  \n",
            "  inflating: face_classification/happy_person_face/vatars-happy-characters-illustration-fear-cartoon-human-head-person-94987965.jpg  \n",
            "  inflating: face_classification/happy_person_face/wow-face-happy-asian-man-head-shot-wow-face-happy-man-head-shot-104264571.jpg  \n",
            "  inflating: face_classification/sad_person_face/-man-sad-face-looking-depressed-unhappy-close-up-portrait-handsome-139799742.jpg  \n",
            "  inflating: face_classification/sad_person_face/-unhappy-miss-good-chance-dressed-casually-isolated-yellow-wall_273609-37534.jpg  \n",
            "  inflating: face_classification/sad_person_face/094168c45d805d5ccbfda755907db503.jpg  \n",
            "  inflating: face_classification/sad_person_face/1000_F_190680368_2qzxZ1xbu0wQ1uIMUBTrOPmtWcbVY8DR.jpg  \n",
            "  inflating: face_classification/sad_person_face/1000_F_206824821_mW4moy3WAgM9PGvAUIlf0Y949Yl0QeT2.jpg  \n",
            "  inflating: face_classification/sad_person_face/1000_F_206825274_frM1i88fNtBhWJ8ria4R9pf5kviFOAXt.jpg  \n",
            "  inflating: face_classification/sad_person_face/1000_F_250183535_2GQkyWdHf2295bWWiMfxLf7BTiYd2CRu.jpg  \n",
            "  inflating: face_classification/sad_person_face/1000_F_254493070_YxfkliEDM4Ifh7igWig3lkxTtSVQOBxm.jpg  \n",
            "  inflating: face_classification/sad_person_face/1000_F_268945553_eUTxWXHGlY945AFW0cY7rU4TCgJjIyWn.jpg  \n",
            "  inflating: face_classification/sad_person_face/1000_F_605813544_WFMe97GraI2qZ3zxtHZugH4CIdHSIlfi.jpg  \n",
            "  inflating: face_classification/sad_person_face/1000_F_78451230_H8DNUDCQ0Tx5PvkAOYV4VxJgBDoGFlRM.jpg  \n",
            "  inflating: face_classification/sad_person_face/110062933-portrait-of-a-young-man-with-a-sad-face-expression.jpg  \n",
            "  inflating: face_classification/sad_person_face/17148545-close-up-image-of-sad-man-face-against-white-background.jpg  \n",
            "  inflating: face_classification/sad_person_face/1af12447f066d41037a1c11515d76470.jpg  \n",
            "  inflating: face_classification/sad_person_face/2089435-young-sad-man-with-blood-in-his-face-and-his-arm-photocase-stock-photo-large.jpeg  \n",
            "  inflating: face_classification/sad_person_face/22757028-sad-man.jpg  \n",
            "  inflating: face_classification/sad_person_face/235453015.jpg  \n",
            "  inflating: face_classification/sad_person_face/311376112.jpg  \n",
            "  inflating: face_classification/sad_person_face/311376157.jpg  \n",
            "  inflating: face_classification/sad_person_face/3601_lovepik-old-man-with-hand-covering-his-face-with-sad-photo-image_wh860.jpg  \n",
            "  inflating: face_classification/sad_person_face/360604441.jpg  \n",
            "  inflating: face_classification/sad_person_face/360_F_250183768_iPMJQecwFvnwYFs2EFFK8xqrkbYBw7uV.jpg  \n",
            "  inflating: face_classification/sad_person_face/371345800.jpg  \n",
            "  inflating: face_classification/sad_person_face/39843138-sad-man.jpg  \n",
            "  inflating: face_classification/sad_person_face/84502259-sad-face-of-young-guy-close-up-of-man-crying-with-tears.jpg  \n",
            "  inflating: face_classification/sad_person_face/85abfdbc98339ab52eb54776f17f1733_t.jpeg  \n",
            "  inflating: face_classification/sad_person_face/8Txrjakoc.jpg  \n",
            "  inflating: face_classification/sad_person_face/HD-wallpaper-sad-face-man-is-standing-in-front-of-roller-shutter-door-depression.jpg  \n",
            "  inflating: face_classification/sad_person_face/Sad.jpg  \n",
            "  inflating: face_classification/sad_person_face/a-close-up-portrait-of-a-baby-girl-with-a-sad-face-S05H40.jpg  \n",
            "  inflating: face_classification/sad_person_face/a6d46e6fd666f0cfb3c171633cb7ff16_t.jpeg  \n",
            "  inflating: face_classification/sad_person_face/and-sad-face-with-her-face-reflected-in-a-glass-photocase-stock-photo-large.jpeg  \n",
            "  inflating: face_classification/sad_person_face/beard-being-offended-upset-expressing-sadness-negative-emotions_176420-22382.jpg  \n",
            "  inflating: face_classification/sad_person_face/bearded-guy-brown-coat-with-sad-face_1258-6716.jpg  \n",
            "  inflating: face_classification/sad_person_face/cartoon-human-female-sad-face-vector-13883282.jpg  \n",
            "  inflating: face_classification/sad_person_face/close-up-of-sad-man-covering-face-with-hand-photo.jpg  \n",
            "  inflating: face_classification/sad_person_face/colorful-cartoon-human-female-sad-face-vector-13895247.jpg  \n",
            "  inflating: face_classification/sad_person_face/d-face-looking-depressed-unhappy-close-up-portrait-handsome-crying-139799701.jpg  \n",
            "  inflating: face_classification/sad_person_face/d-face-looking-depressed-unhappy-close-up-portrait-handsome-crying-153222343.jpg  \n",
            "  inflating: face_classification/sad_person_face/depositphotos_218926456-stock-photo-human-face-can-different-strong.jpg  \n",
            "  inflating: face_classification/sad_person_face/depositphotos_48581345-stock-photo-sad-face-of-young-guy.jpg  \n",
            "  inflating: face_classification/sad_person_face/depositphotos_52016313-stock-photo-young-man-emotional-pensive-sad.jpg  \n",
            "  inflating: face_classification/sad_person_face/ed-face-looking-concerned-worried-thoughtful-human-emotions-facial-137916510.jpg  \n",
            "  inflating: face_classification/sad_person_face/ed-face-looking-concerned-worried-thoughtful-human-emotions-facial-1379165102.jpg  \n",
            "  inflating: face_classification/sad_person_face/face-sad-man-expression-cartoon-icon-vector-10106701.jpg  \n",
            "  inflating: face_classification/sad_person_face/g-handsome-guy-with-a-sad-expression-the-sad-condition-man-badly-hurt-PH8079.jpg  \n",
            "  inflating: face_classification/sad_person_face/handsome-man-character-with-sad-face-demonstrating-vector-42841905.jpg  \n",
            "  inflating: face_classification/sad_person_face/head-shot-of-sad-man-B2XHJK.jpg  \n",
            "  inflating: face_classification/sad_person_face/image50.jpeg  \n",
            "  inflating: face_classification/sad_person_face/image51.jpeg  \n",
            "  inflating: face_classification/sad_person_face/images5.jpg  \n",
            "  inflating: face_classification/sad_person_face/ive-emotion-isolated-feeling-unhappy-crying-white-studio-background-90813316.jpg  \n",
            "  inflating: face_classification/sad_person_face/lovepik-old-man-sad-face-closeup-picture_501701420.jpg  \n",
            "  inflating: face_classification/sad_person_face/lovepik-sad-old-man-face-close-up-picture_501701411.jpg  \n",
            "  inflating: face_classification/sad_person_face/ly-african-man-very-sad-elderly-man-concept-of-loneliness-and-pain-loss-of-a.jpg  \n",
            "  inflating: face_classification/sad_person_face/man-915230_1280.jpg  \n",
            "  inflating: face_classification/sad_person_face/man-making-sad-face-J0KA6G.jpg  \n",
            "  inflating: face_classification/sad_person_face/man-making-sad-face.jpg  \n",
            "  inflating: face_classification/sad_person_face/man-sad-face-looking-depressed-unhappy-close-up-portrait-beautiful-117693890.jpg  \n",
            "  inflating: face_classification/sad_person_face/man-tears-tear-look.jpg  \n",
            "  inflating: face_classification/sad_person_face/nhappy-and-face-of-an-african-man-with-a-beard-problem-and-style-fit_400_400.jpg  \n",
            "  inflating: face_classification/sad_person_face/pcqrnarXi.jpg  \n",
            "  inflating: face_classification/sad_person_face/png-transparent-graphy-sadness-man-sad-microphone-photography-sadness-thumbnail.png  \n",
            "  inflating: face_classification/sad_person_face/png-transparent-sadness-person-depression-bored-s-hand-fictional-character-cartoon-thumbnail.png  \n",
            "  inflating: face_classification/sad_person_face/pngtree-cute-sad-face-png-image_13081250.png  \n",
            "  inflating: face_classification/sad_person_face/pngtree-sad-man-is-holding-his-face-and-is-holding-his-head-picture-image_3160446.jpg  \n",
            "  inflating: face_classification/sad_person_face/portrait-of-senior-man-making-sad-face-studio-shot-CTF292.jpg  \n",
            "  inflating: face_classification/sad_person_face/sad-face-man-with-intense-expression-white-shirt-E4TG3K.jpg  \n",
            "  inflating: face_classification/sad_person_face/sad-man-with-ash-and-dirt-on-face-VEGF05026.jpg  \n",
            "  inflating: face_classification/sad_person_face/sadness-girl-portrait-tear-wallpaper-preview.jpg  \n",
            "  inflating: face_classification/sad_person_face/the-sad-man-and-face-closeup-R5HNH7.jpg  \n",
            "  inflating: face_classification/sad_person_face/woman-pink-top-looking-camera-with-sad-expression-pursing-lips_141793-108887.jpg  \n",
            "  inflating: face_classification/sad_person_face/woman-sad-face-looking-miserable-melancholy-depressed-human-facial-117693898.jpg  \n"
          ]
        }
      ],
      "source": [
        "!unzip happy-or-sad-binary-image-classification.zip"
      ]
    },
    {
      "cell_type": "code",
      "execution_count": null,
      "metadata": {
        "id": "F2-2fRC7AhGF"
      },
      "outputs": [],
      "source": [
        "from keras.utils import load_img,img_to_array\n",
        "x=load_img('/content/face_classification/happy_person_face/-human-emotions-children-concept-beautiful-excited-optimistic-blue-236590722.jpg',target_size=(150,150))"
      ]
    },
    {
      "cell_type": "code",
      "execution_count": null,
      "metadata": {
        "colab": {
          "base_uri": "https://localhost:8080/"
        },
        "id": "oAtrOPNFAuLb",
        "outputId": "04bb80d4-6723-4cca-c9a1-946dd63c762a"
      },
      "outputs": [
        {
          "data": {
            "text/plain": [
              "(150, 150, 3)"
            ]
          },
          "execution_count": 6,
          "metadata": {},
          "output_type": "execute_result"
        }
      ],
      "source": [
        "img_to_array(x).shape"
      ]
    },
    {
      "cell_type": "code",
      "execution_count": null,
      "metadata": {
        "colab": {
          "base_uri": "https://localhost:8080/"
        },
        "id": "W3PzQcyEAWhK",
        "outputId": "60757058-7b05-4663-92b6-c1afb440015b"
      },
      "outputs": [
        {
          "name": "stdout",
          "output_type": "stream",
          "text": [
            "Downloading data from https://storage.googleapis.com/tensorflow/keras-applications/vgg16/vgg16_weights_tf_dim_ordering_tf_kernels_notop.h5\n",
            "\u001b[1m58889256/58889256\u001b[0m \u001b[32m━━━━━━━━━━━━━━━━━━━━\u001b[0m\u001b[37m\u001b[0m \u001b[1m0s\u001b[0m 0us/step\n"
          ]
        }
      ],
      "source": [
        "convolutional_vgg=VGG16(weights='imagenet',include_top=False,input_shape=(150,150,3))"
      ]
    },
    {
      "cell_type": "code",
      "execution_count": null,
      "metadata": {
        "colab": {
          "base_uri": "https://localhost:8080/",
          "height": 748
        },
        "id": "20tRCZ7TAuwE",
        "outputId": "01d5c393-6bd3-40d9-b91f-57cb58594302"
      },
      "outputs": [
        {
          "data": {
            "text/html": [
              "<pre style=\"white-space:pre;overflow-x:auto;line-height:normal;font-family:Menlo,'DejaVu Sans Mono',consolas,'Courier New',monospace\"><span style=\"font-weight: bold\">Model: \"vgg16\"</span>\n",
              "</pre>\n"
            ],
            "text/plain": [
              "\u001b[1mModel: \"vgg16\"\u001b[0m\n"
            ]
          },
          "metadata": {},
          "output_type": "display_data"
        },
        {
          "data": {
            "text/html": [
              "<pre style=\"white-space:pre;overflow-x:auto;line-height:normal;font-family:Menlo,'DejaVu Sans Mono',consolas,'Courier New',monospace\">┏━━━━━━━━━━━━━━━━━━━━━━━━━━━━━━━━━┳━━━━━━━━━━━━━━━━━━━━━━━━┳━━━━━━━━━━━━━━━┓\n",
              "┃<span style=\"font-weight: bold\"> Layer (type)                    </span>┃<span style=\"font-weight: bold\"> Output Shape           </span>┃<span style=\"font-weight: bold\">       Param # </span>┃\n",
              "┡━━━━━━━━━━━━━━━━━━━━━━━━━━━━━━━━━╇━━━━━━━━━━━━━━━━━━━━━━━━╇━━━━━━━━━━━━━━━┩\n",
              "│ input_layer (<span style=\"color: #0087ff; text-decoration-color: #0087ff\">InputLayer</span>)        │ (<span style=\"color: #00d7ff; text-decoration-color: #00d7ff\">None</span>, <span style=\"color: #00af00; text-decoration-color: #00af00\">150</span>, <span style=\"color: #00af00; text-decoration-color: #00af00\">150</span>, <span style=\"color: #00af00; text-decoration-color: #00af00\">3</span>)    │             <span style=\"color: #00af00; text-decoration-color: #00af00\">0</span> │\n",
              "├─────────────────────────────────┼────────────────────────┼───────────────┤\n",
              "│ block1_conv1 (<span style=\"color: #0087ff; text-decoration-color: #0087ff\">Conv2D</span>)           │ (<span style=\"color: #00d7ff; text-decoration-color: #00d7ff\">None</span>, <span style=\"color: #00af00; text-decoration-color: #00af00\">150</span>, <span style=\"color: #00af00; text-decoration-color: #00af00\">150</span>, <span style=\"color: #00af00; text-decoration-color: #00af00\">64</span>)   │         <span style=\"color: #00af00; text-decoration-color: #00af00\">1,792</span> │\n",
              "├─────────────────────────────────┼────────────────────────┼───────────────┤\n",
              "│ block1_conv2 (<span style=\"color: #0087ff; text-decoration-color: #0087ff\">Conv2D</span>)           │ (<span style=\"color: #00d7ff; text-decoration-color: #00d7ff\">None</span>, <span style=\"color: #00af00; text-decoration-color: #00af00\">150</span>, <span style=\"color: #00af00; text-decoration-color: #00af00\">150</span>, <span style=\"color: #00af00; text-decoration-color: #00af00\">64</span>)   │        <span style=\"color: #00af00; text-decoration-color: #00af00\">36,928</span> │\n",
              "├─────────────────────────────────┼────────────────────────┼───────────────┤\n",
              "│ block1_pool (<span style=\"color: #0087ff; text-decoration-color: #0087ff\">MaxPooling2D</span>)      │ (<span style=\"color: #00d7ff; text-decoration-color: #00d7ff\">None</span>, <span style=\"color: #00af00; text-decoration-color: #00af00\">75</span>, <span style=\"color: #00af00; text-decoration-color: #00af00\">75</span>, <span style=\"color: #00af00; text-decoration-color: #00af00\">64</span>)     │             <span style=\"color: #00af00; text-decoration-color: #00af00\">0</span> │\n",
              "├─────────────────────────────────┼────────────────────────┼───────────────┤\n",
              "│ block2_conv1 (<span style=\"color: #0087ff; text-decoration-color: #0087ff\">Conv2D</span>)           │ (<span style=\"color: #00d7ff; text-decoration-color: #00d7ff\">None</span>, <span style=\"color: #00af00; text-decoration-color: #00af00\">75</span>, <span style=\"color: #00af00; text-decoration-color: #00af00\">75</span>, <span style=\"color: #00af00; text-decoration-color: #00af00\">128</span>)    │        <span style=\"color: #00af00; text-decoration-color: #00af00\">73,856</span> │\n",
              "├─────────────────────────────────┼────────────────────────┼───────────────┤\n",
              "│ block2_conv2 (<span style=\"color: #0087ff; text-decoration-color: #0087ff\">Conv2D</span>)           │ (<span style=\"color: #00d7ff; text-decoration-color: #00d7ff\">None</span>, <span style=\"color: #00af00; text-decoration-color: #00af00\">75</span>, <span style=\"color: #00af00; text-decoration-color: #00af00\">75</span>, <span style=\"color: #00af00; text-decoration-color: #00af00\">128</span>)    │       <span style=\"color: #00af00; text-decoration-color: #00af00\">147,584</span> │\n",
              "├─────────────────────────────────┼────────────────────────┼───────────────┤\n",
              "│ block2_pool (<span style=\"color: #0087ff; text-decoration-color: #0087ff\">MaxPooling2D</span>)      │ (<span style=\"color: #00d7ff; text-decoration-color: #00d7ff\">None</span>, <span style=\"color: #00af00; text-decoration-color: #00af00\">37</span>, <span style=\"color: #00af00; text-decoration-color: #00af00\">37</span>, <span style=\"color: #00af00; text-decoration-color: #00af00\">128</span>)    │             <span style=\"color: #00af00; text-decoration-color: #00af00\">0</span> │\n",
              "├─────────────────────────────────┼────────────────────────┼───────────────┤\n",
              "│ block3_conv1 (<span style=\"color: #0087ff; text-decoration-color: #0087ff\">Conv2D</span>)           │ (<span style=\"color: #00d7ff; text-decoration-color: #00d7ff\">None</span>, <span style=\"color: #00af00; text-decoration-color: #00af00\">37</span>, <span style=\"color: #00af00; text-decoration-color: #00af00\">37</span>, <span style=\"color: #00af00; text-decoration-color: #00af00\">256</span>)    │       <span style=\"color: #00af00; text-decoration-color: #00af00\">295,168</span> │\n",
              "├─────────────────────────────────┼────────────────────────┼───────────────┤\n",
              "│ block3_conv2 (<span style=\"color: #0087ff; text-decoration-color: #0087ff\">Conv2D</span>)           │ (<span style=\"color: #00d7ff; text-decoration-color: #00d7ff\">None</span>, <span style=\"color: #00af00; text-decoration-color: #00af00\">37</span>, <span style=\"color: #00af00; text-decoration-color: #00af00\">37</span>, <span style=\"color: #00af00; text-decoration-color: #00af00\">256</span>)    │       <span style=\"color: #00af00; text-decoration-color: #00af00\">590,080</span> │\n",
              "├─────────────────────────────────┼────────────────────────┼───────────────┤\n",
              "│ block3_conv3 (<span style=\"color: #0087ff; text-decoration-color: #0087ff\">Conv2D</span>)           │ (<span style=\"color: #00d7ff; text-decoration-color: #00d7ff\">None</span>, <span style=\"color: #00af00; text-decoration-color: #00af00\">37</span>, <span style=\"color: #00af00; text-decoration-color: #00af00\">37</span>, <span style=\"color: #00af00; text-decoration-color: #00af00\">256</span>)    │       <span style=\"color: #00af00; text-decoration-color: #00af00\">590,080</span> │\n",
              "├─────────────────────────────────┼────────────────────────┼───────────────┤\n",
              "│ block3_pool (<span style=\"color: #0087ff; text-decoration-color: #0087ff\">MaxPooling2D</span>)      │ (<span style=\"color: #00d7ff; text-decoration-color: #00d7ff\">None</span>, <span style=\"color: #00af00; text-decoration-color: #00af00\">18</span>, <span style=\"color: #00af00; text-decoration-color: #00af00\">18</span>, <span style=\"color: #00af00; text-decoration-color: #00af00\">256</span>)    │             <span style=\"color: #00af00; text-decoration-color: #00af00\">0</span> │\n",
              "├─────────────────────────────────┼────────────────────────┼───────────────┤\n",
              "│ block4_conv1 (<span style=\"color: #0087ff; text-decoration-color: #0087ff\">Conv2D</span>)           │ (<span style=\"color: #00d7ff; text-decoration-color: #00d7ff\">None</span>, <span style=\"color: #00af00; text-decoration-color: #00af00\">18</span>, <span style=\"color: #00af00; text-decoration-color: #00af00\">18</span>, <span style=\"color: #00af00; text-decoration-color: #00af00\">512</span>)    │     <span style=\"color: #00af00; text-decoration-color: #00af00\">1,180,160</span> │\n",
              "├─────────────────────────────────┼────────────────────────┼───────────────┤\n",
              "│ block4_conv2 (<span style=\"color: #0087ff; text-decoration-color: #0087ff\">Conv2D</span>)           │ (<span style=\"color: #00d7ff; text-decoration-color: #00d7ff\">None</span>, <span style=\"color: #00af00; text-decoration-color: #00af00\">18</span>, <span style=\"color: #00af00; text-decoration-color: #00af00\">18</span>, <span style=\"color: #00af00; text-decoration-color: #00af00\">512</span>)    │     <span style=\"color: #00af00; text-decoration-color: #00af00\">2,359,808</span> │\n",
              "├─────────────────────────────────┼────────────────────────┼───────────────┤\n",
              "│ block4_conv3 (<span style=\"color: #0087ff; text-decoration-color: #0087ff\">Conv2D</span>)           │ (<span style=\"color: #00d7ff; text-decoration-color: #00d7ff\">None</span>, <span style=\"color: #00af00; text-decoration-color: #00af00\">18</span>, <span style=\"color: #00af00; text-decoration-color: #00af00\">18</span>, <span style=\"color: #00af00; text-decoration-color: #00af00\">512</span>)    │     <span style=\"color: #00af00; text-decoration-color: #00af00\">2,359,808</span> │\n",
              "├─────────────────────────────────┼────────────────────────┼───────────────┤\n",
              "│ block4_pool (<span style=\"color: #0087ff; text-decoration-color: #0087ff\">MaxPooling2D</span>)      │ (<span style=\"color: #00d7ff; text-decoration-color: #00d7ff\">None</span>, <span style=\"color: #00af00; text-decoration-color: #00af00\">9</span>, <span style=\"color: #00af00; text-decoration-color: #00af00\">9</span>, <span style=\"color: #00af00; text-decoration-color: #00af00\">512</span>)      │             <span style=\"color: #00af00; text-decoration-color: #00af00\">0</span> │\n",
              "├─────────────────────────────────┼────────────────────────┼───────────────┤\n",
              "│ block5_conv1 (<span style=\"color: #0087ff; text-decoration-color: #0087ff\">Conv2D</span>)           │ (<span style=\"color: #00d7ff; text-decoration-color: #00d7ff\">None</span>, <span style=\"color: #00af00; text-decoration-color: #00af00\">9</span>, <span style=\"color: #00af00; text-decoration-color: #00af00\">9</span>, <span style=\"color: #00af00; text-decoration-color: #00af00\">512</span>)      │     <span style=\"color: #00af00; text-decoration-color: #00af00\">2,359,808</span> │\n",
              "├─────────────────────────────────┼────────────────────────┼───────────────┤\n",
              "│ block5_conv2 (<span style=\"color: #0087ff; text-decoration-color: #0087ff\">Conv2D</span>)           │ (<span style=\"color: #00d7ff; text-decoration-color: #00d7ff\">None</span>, <span style=\"color: #00af00; text-decoration-color: #00af00\">9</span>, <span style=\"color: #00af00; text-decoration-color: #00af00\">9</span>, <span style=\"color: #00af00; text-decoration-color: #00af00\">512</span>)      │     <span style=\"color: #00af00; text-decoration-color: #00af00\">2,359,808</span> │\n",
              "├─────────────────────────────────┼────────────────────────┼───────────────┤\n",
              "│ block5_conv3 (<span style=\"color: #0087ff; text-decoration-color: #0087ff\">Conv2D</span>)           │ (<span style=\"color: #00d7ff; text-decoration-color: #00d7ff\">None</span>, <span style=\"color: #00af00; text-decoration-color: #00af00\">9</span>, <span style=\"color: #00af00; text-decoration-color: #00af00\">9</span>, <span style=\"color: #00af00; text-decoration-color: #00af00\">512</span>)      │     <span style=\"color: #00af00; text-decoration-color: #00af00\">2,359,808</span> │\n",
              "├─────────────────────────────────┼────────────────────────┼───────────────┤\n",
              "│ block5_pool (<span style=\"color: #0087ff; text-decoration-color: #0087ff\">MaxPooling2D</span>)      │ (<span style=\"color: #00d7ff; text-decoration-color: #00d7ff\">None</span>, <span style=\"color: #00af00; text-decoration-color: #00af00\">4</span>, <span style=\"color: #00af00; text-decoration-color: #00af00\">4</span>, <span style=\"color: #00af00; text-decoration-color: #00af00\">512</span>)      │             <span style=\"color: #00af00; text-decoration-color: #00af00\">0</span> │\n",
              "└─────────────────────────────────┴────────────────────────┴───────────────┘\n",
              "</pre>\n"
            ],
            "text/plain": [
              "┏━━━━━━━━━━━━━━━━━━━━━━━━━━━━━━━━━┳━━━━━━━━━━━━━━━━━━━━━━━━┳━━━━━━━━━━━━━━━┓\n",
              "┃\u001b[1m \u001b[0m\u001b[1mLayer (type)                   \u001b[0m\u001b[1m \u001b[0m┃\u001b[1m \u001b[0m\u001b[1mOutput Shape          \u001b[0m\u001b[1m \u001b[0m┃\u001b[1m \u001b[0m\u001b[1m      Param #\u001b[0m\u001b[1m \u001b[0m┃\n",
              "┡━━━━━━━━━━━━━━━━━━━━━━━━━━━━━━━━━╇━━━━━━━━━━━━━━━━━━━━━━━━╇━━━━━━━━━━━━━━━┩\n",
              "│ input_layer (\u001b[38;5;33mInputLayer\u001b[0m)        │ (\u001b[38;5;45mNone\u001b[0m, \u001b[38;5;34m150\u001b[0m, \u001b[38;5;34m150\u001b[0m, \u001b[38;5;34m3\u001b[0m)    │             \u001b[38;5;34m0\u001b[0m │\n",
              "├─────────────────────────────────┼────────────────────────┼───────────────┤\n",
              "│ block1_conv1 (\u001b[38;5;33mConv2D\u001b[0m)           │ (\u001b[38;5;45mNone\u001b[0m, \u001b[38;5;34m150\u001b[0m, \u001b[38;5;34m150\u001b[0m, \u001b[38;5;34m64\u001b[0m)   │         \u001b[38;5;34m1,792\u001b[0m │\n",
              "├─────────────────────────────────┼────────────────────────┼───────────────┤\n",
              "│ block1_conv2 (\u001b[38;5;33mConv2D\u001b[0m)           │ (\u001b[38;5;45mNone\u001b[0m, \u001b[38;5;34m150\u001b[0m, \u001b[38;5;34m150\u001b[0m, \u001b[38;5;34m64\u001b[0m)   │        \u001b[38;5;34m36,928\u001b[0m │\n",
              "├─────────────────────────────────┼────────────────────────┼───────────────┤\n",
              "│ block1_pool (\u001b[38;5;33mMaxPooling2D\u001b[0m)      │ (\u001b[38;5;45mNone\u001b[0m, \u001b[38;5;34m75\u001b[0m, \u001b[38;5;34m75\u001b[0m, \u001b[38;5;34m64\u001b[0m)     │             \u001b[38;5;34m0\u001b[0m │\n",
              "├─────────────────────────────────┼────────────────────────┼───────────────┤\n",
              "│ block2_conv1 (\u001b[38;5;33mConv2D\u001b[0m)           │ (\u001b[38;5;45mNone\u001b[0m, \u001b[38;5;34m75\u001b[0m, \u001b[38;5;34m75\u001b[0m, \u001b[38;5;34m128\u001b[0m)    │        \u001b[38;5;34m73,856\u001b[0m │\n",
              "├─────────────────────────────────┼────────────────────────┼───────────────┤\n",
              "│ block2_conv2 (\u001b[38;5;33mConv2D\u001b[0m)           │ (\u001b[38;5;45mNone\u001b[0m, \u001b[38;5;34m75\u001b[0m, \u001b[38;5;34m75\u001b[0m, \u001b[38;5;34m128\u001b[0m)    │       \u001b[38;5;34m147,584\u001b[0m │\n",
              "├─────────────────────────────────┼────────────────────────┼───────────────┤\n",
              "│ block2_pool (\u001b[38;5;33mMaxPooling2D\u001b[0m)      │ (\u001b[38;5;45mNone\u001b[0m, \u001b[38;5;34m37\u001b[0m, \u001b[38;5;34m37\u001b[0m, \u001b[38;5;34m128\u001b[0m)    │             \u001b[38;5;34m0\u001b[0m │\n",
              "├─────────────────────────────────┼────────────────────────┼───────────────┤\n",
              "│ block3_conv1 (\u001b[38;5;33mConv2D\u001b[0m)           │ (\u001b[38;5;45mNone\u001b[0m, \u001b[38;5;34m37\u001b[0m, \u001b[38;5;34m37\u001b[0m, \u001b[38;5;34m256\u001b[0m)    │       \u001b[38;5;34m295,168\u001b[0m │\n",
              "├─────────────────────────────────┼────────────────────────┼───────────────┤\n",
              "│ block3_conv2 (\u001b[38;5;33mConv2D\u001b[0m)           │ (\u001b[38;5;45mNone\u001b[0m, \u001b[38;5;34m37\u001b[0m, \u001b[38;5;34m37\u001b[0m, \u001b[38;5;34m256\u001b[0m)    │       \u001b[38;5;34m590,080\u001b[0m │\n",
              "├─────────────────────────────────┼────────────────────────┼───────────────┤\n",
              "│ block3_conv3 (\u001b[38;5;33mConv2D\u001b[0m)           │ (\u001b[38;5;45mNone\u001b[0m, \u001b[38;5;34m37\u001b[0m, \u001b[38;5;34m37\u001b[0m, \u001b[38;5;34m256\u001b[0m)    │       \u001b[38;5;34m590,080\u001b[0m │\n",
              "├─────────────────────────────────┼────────────────────────┼───────────────┤\n",
              "│ block3_pool (\u001b[38;5;33mMaxPooling2D\u001b[0m)      │ (\u001b[38;5;45mNone\u001b[0m, \u001b[38;5;34m18\u001b[0m, \u001b[38;5;34m18\u001b[0m, \u001b[38;5;34m256\u001b[0m)    │             \u001b[38;5;34m0\u001b[0m │\n",
              "├─────────────────────────────────┼────────────────────────┼───────────────┤\n",
              "│ block4_conv1 (\u001b[38;5;33mConv2D\u001b[0m)           │ (\u001b[38;5;45mNone\u001b[0m, \u001b[38;5;34m18\u001b[0m, \u001b[38;5;34m18\u001b[0m, \u001b[38;5;34m512\u001b[0m)    │     \u001b[38;5;34m1,180,160\u001b[0m │\n",
              "├─────────────────────────────────┼────────────────────────┼───────────────┤\n",
              "│ block4_conv2 (\u001b[38;5;33mConv2D\u001b[0m)           │ (\u001b[38;5;45mNone\u001b[0m, \u001b[38;5;34m18\u001b[0m, \u001b[38;5;34m18\u001b[0m, \u001b[38;5;34m512\u001b[0m)    │     \u001b[38;5;34m2,359,808\u001b[0m │\n",
              "├─────────────────────────────────┼────────────────────────┼───────────────┤\n",
              "│ block4_conv3 (\u001b[38;5;33mConv2D\u001b[0m)           │ (\u001b[38;5;45mNone\u001b[0m, \u001b[38;5;34m18\u001b[0m, \u001b[38;5;34m18\u001b[0m, \u001b[38;5;34m512\u001b[0m)    │     \u001b[38;5;34m2,359,808\u001b[0m │\n",
              "├─────────────────────────────────┼────────────────────────┼───────────────┤\n",
              "│ block4_pool (\u001b[38;5;33mMaxPooling2D\u001b[0m)      │ (\u001b[38;5;45mNone\u001b[0m, \u001b[38;5;34m9\u001b[0m, \u001b[38;5;34m9\u001b[0m, \u001b[38;5;34m512\u001b[0m)      │             \u001b[38;5;34m0\u001b[0m │\n",
              "├─────────────────────────────────┼────────────────────────┼───────────────┤\n",
              "│ block5_conv1 (\u001b[38;5;33mConv2D\u001b[0m)           │ (\u001b[38;5;45mNone\u001b[0m, \u001b[38;5;34m9\u001b[0m, \u001b[38;5;34m9\u001b[0m, \u001b[38;5;34m512\u001b[0m)      │     \u001b[38;5;34m2,359,808\u001b[0m │\n",
              "├─────────────────────────────────┼────────────────────────┼───────────────┤\n",
              "│ block5_conv2 (\u001b[38;5;33mConv2D\u001b[0m)           │ (\u001b[38;5;45mNone\u001b[0m, \u001b[38;5;34m9\u001b[0m, \u001b[38;5;34m9\u001b[0m, \u001b[38;5;34m512\u001b[0m)      │     \u001b[38;5;34m2,359,808\u001b[0m │\n",
              "├─────────────────────────────────┼────────────────────────┼───────────────┤\n",
              "│ block5_conv3 (\u001b[38;5;33mConv2D\u001b[0m)           │ (\u001b[38;5;45mNone\u001b[0m, \u001b[38;5;34m9\u001b[0m, \u001b[38;5;34m9\u001b[0m, \u001b[38;5;34m512\u001b[0m)      │     \u001b[38;5;34m2,359,808\u001b[0m │\n",
              "├─────────────────────────────────┼────────────────────────┼───────────────┤\n",
              "│ block5_pool (\u001b[38;5;33mMaxPooling2D\u001b[0m)      │ (\u001b[38;5;45mNone\u001b[0m, \u001b[38;5;34m4\u001b[0m, \u001b[38;5;34m4\u001b[0m, \u001b[38;5;34m512\u001b[0m)      │             \u001b[38;5;34m0\u001b[0m │\n",
              "└─────────────────────────────────┴────────────────────────┴───────────────┘\n"
            ]
          },
          "metadata": {},
          "output_type": "display_data"
        },
        {
          "data": {
            "text/html": [
              "<pre style=\"white-space:pre;overflow-x:auto;line-height:normal;font-family:Menlo,'DejaVu Sans Mono',consolas,'Courier New',monospace\"><span style=\"font-weight: bold\"> Total params: </span><span style=\"color: #00af00; text-decoration-color: #00af00\">14,714,688</span> (56.13 MB)\n",
              "</pre>\n"
            ],
            "text/plain": [
              "\u001b[1m Total params: \u001b[0m\u001b[38;5;34m14,714,688\u001b[0m (56.13 MB)\n"
            ]
          },
          "metadata": {},
          "output_type": "display_data"
        },
        {
          "data": {
            "text/html": [
              "<pre style=\"white-space:pre;overflow-x:auto;line-height:normal;font-family:Menlo,'DejaVu Sans Mono',consolas,'Courier New',monospace\"><span style=\"font-weight: bold\"> Trainable params: </span><span style=\"color: #00af00; text-decoration-color: #00af00\">14,714,688</span> (56.13 MB)\n",
              "</pre>\n"
            ],
            "text/plain": [
              "\u001b[1m Trainable params: \u001b[0m\u001b[38;5;34m14,714,688\u001b[0m (56.13 MB)\n"
            ]
          },
          "metadata": {},
          "output_type": "display_data"
        },
        {
          "data": {
            "text/html": [
              "<pre style=\"white-space:pre;overflow-x:auto;line-height:normal;font-family:Menlo,'DejaVu Sans Mono',consolas,'Courier New',monospace\"><span style=\"font-weight: bold\"> Non-trainable params: </span><span style=\"color: #00af00; text-decoration-color: #00af00\">0</span> (0.00 B)\n",
              "</pre>\n"
            ],
            "text/plain": [
              "\u001b[1m Non-trainable params: \u001b[0m\u001b[38;5;34m0\u001b[0m (0.00 B)\n"
            ]
          },
          "metadata": {},
          "output_type": "display_data"
        }
      ],
      "source": [
        "convolutional_vgg.summary()"
      ]
    },
    {
      "cell_type": "code",
      "execution_count": null,
      "metadata": {
        "colab": {
          "base_uri": "https://localhost:8080/"
        },
        "id": "DiO16hIDBESl",
        "outputId": "5bcdba84-931d-4071-8756-a765e1e03830"
      },
      "outputs": [
        {
          "name": "stdout",
          "output_type": "stream",
          "text": [
            "input_layer :  False\n",
            "block1_conv1 :  False\n",
            "block1_conv2 :  False\n",
            "block1_pool :  False\n",
            "block2_conv1 :  False\n",
            "block2_conv2 :  False\n",
            "block2_pool :  False\n",
            "block3_conv1 :  False\n",
            "block3_conv2 :  False\n",
            "block3_conv3 :  False\n",
            "block3_pool :  False\n",
            "block4_conv1 :  False\n",
            "block4_conv2 :  False\n",
            "block4_conv3 :  False\n",
            "block4_pool :  False\n",
            "block5_conv1 :  True\n",
            "block5_conv2 :  True\n",
            "block5_conv3 :  True\n",
            "block5_pool :  False\n"
          ]
        }
      ],
      "source": [
        "convolutional_vgg.trainable=False\n",
        "\n",
        "for layers in convolutional_vgg.layers:\n",
        "  if 'block5_conv' in layers.name:\n",
        "    layers.trainable=True\n",
        "  #freezing the training for all the layers except the last convolutional layer and the (pooling layer)\n",
        "for layers in convolutional_vgg.layers:\n",
        "  print(layers.name,\": \",layers.trainable)"
      ]
    },
    {
      "cell_type": "code",
      "execution_count": null,
      "metadata": {
        "id": "QLrWiN_VBnyU"
      },
      "outputs": [],
      "source": [
        "model=Sequential()\n",
        "model.add(convolutional_vgg)\n",
        "model.add(Flatten())\n",
        "model.add(Dense(128,activation='relu'))\n",
        "model.add(Dense(1,activation='sigmoid'))"
      ]
    },
    {
      "cell_type": "code",
      "execution_count": null,
      "metadata": {
        "id": "9Uvnzb8QCNgj"
      },
      "outputs": [],
      "source": [
        "from keras.utils import image_dataset_from_directory"
      ]
    },
    {
      "cell_type": "code",
      "execution_count": null,
      "metadata": {
        "id": "hyXWE4qJCcAO"
      },
      "outputs": [],
      "source": [
        "from tensorflow.keras.preprocessing.image import ImageDataGenerator"
      ]
    },
    {
      "cell_type": "code",
      "execution_count": null,
      "metadata": {
        "colab": {
          "base_uri": "https://localhost:8080/"
        },
        "id": "oG1dxZXNDdba",
        "outputId": "aa31cf76-bb74-40f3-cd0c-f0cd331e9417"
      },
      "outputs": [
        {
          "name": "stdout",
          "output_type": "stream",
          "text": [
            "Found 164 images belonging to 2 classes.\n"
          ]
        }
      ],
      "source": [
        "train_datagen=ImageDataGenerator(\n",
        "    rescale=1./225,\n",
        "    shear_range=0.3,\n",
        "    zoom_range=1.3,\n",
        "    horizontal_flip=True,\n",
        "    rotation_range=30\n",
        ")\n",
        "\n",
        "\n",
        "train_generator=train_datagen.flow_from_directory(\n",
        "    '/content/face_classification',\n",
        "    target_size=(150,150),\n",
        "    batch_size=16,\n",
        "    class_mode='binary')\n"
      ]
    },
    {
      "cell_type": "code",
      "execution_count": null,
      "metadata": {
        "colab": {
          "base_uri": "https://localhost:8080/",
          "height": 261
        },
        "id": "sswIJ2k_Hh0n",
        "outputId": "f79e6011-a64e-4877-f62c-95d9f8d3b8bc"
      },
      "outputs": [
        {
          "data": {
            "text/html": [
              "<pre style=\"white-space:pre;overflow-x:auto;line-height:normal;font-family:Menlo,'DejaVu Sans Mono',consolas,'Courier New',monospace\"><span style=\"font-weight: bold\">Model: \"sequential\"</span>\n",
              "</pre>\n"
            ],
            "text/plain": [
              "\u001b[1mModel: \"sequential\"\u001b[0m\n"
            ]
          },
          "metadata": {},
          "output_type": "display_data"
        },
        {
          "data": {
            "text/html": [
              "<pre style=\"white-space:pre;overflow-x:auto;line-height:normal;font-family:Menlo,'DejaVu Sans Mono',consolas,'Courier New',monospace\">┏━━━━━━━━━━━━━━━━━━━━━━━━━━━━━━━━━┳━━━━━━━━━━━━━━━━━━━━━━━━┳━━━━━━━━━━━━━━━┓\n",
              "┃<span style=\"font-weight: bold\"> Layer (type)                    </span>┃<span style=\"font-weight: bold\"> Output Shape           </span>┃<span style=\"font-weight: bold\">       Param # </span>┃\n",
              "┡━━━━━━━━━━━━━━━━━━━━━━━━━━━━━━━━━╇━━━━━━━━━━━━━━━━━━━━━━━━╇━━━━━━━━━━━━━━━┩\n",
              "│ vgg16 (<span style=\"color: #0087ff; text-decoration-color: #0087ff\">Functional</span>)              │ (<span style=\"color: #00d7ff; text-decoration-color: #00d7ff\">None</span>, <span style=\"color: #00af00; text-decoration-color: #00af00\">4</span>, <span style=\"color: #00af00; text-decoration-color: #00af00\">4</span>, <span style=\"color: #00af00; text-decoration-color: #00af00\">512</span>)      │    <span style=\"color: #00af00; text-decoration-color: #00af00\">14,714,688</span> │\n",
              "├─────────────────────────────────┼────────────────────────┼───────────────┤\n",
              "│ flatten (<span style=\"color: #0087ff; text-decoration-color: #0087ff\">Flatten</span>)               │ (<span style=\"color: #00d7ff; text-decoration-color: #00d7ff\">None</span>, <span style=\"color: #00af00; text-decoration-color: #00af00\">8192</span>)           │             <span style=\"color: #00af00; text-decoration-color: #00af00\">0</span> │\n",
              "├─────────────────────────────────┼────────────────────────┼───────────────┤\n",
              "│ dense (<span style=\"color: #0087ff; text-decoration-color: #0087ff\">Dense</span>)                   │ (<span style=\"color: #00d7ff; text-decoration-color: #00d7ff\">None</span>, <span style=\"color: #00af00; text-decoration-color: #00af00\">128</span>)            │     <span style=\"color: #00af00; text-decoration-color: #00af00\">1,048,704</span> │\n",
              "├─────────────────────────────────┼────────────────────────┼───────────────┤\n",
              "│ dense_1 (<span style=\"color: #0087ff; text-decoration-color: #0087ff\">Dense</span>)                 │ (<span style=\"color: #00d7ff; text-decoration-color: #00d7ff\">None</span>, <span style=\"color: #00af00; text-decoration-color: #00af00\">1</span>)              │           <span style=\"color: #00af00; text-decoration-color: #00af00\">129</span> │\n",
              "└─────────────────────────────────┴────────────────────────┴───────────────┘\n",
              "</pre>\n"
            ],
            "text/plain": [
              "┏━━━━━━━━━━━━━━━━━━━━━━━━━━━━━━━━━┳━━━━━━━━━━━━━━━━━━━━━━━━┳━━━━━━━━━━━━━━━┓\n",
              "┃\u001b[1m \u001b[0m\u001b[1mLayer (type)                   \u001b[0m\u001b[1m \u001b[0m┃\u001b[1m \u001b[0m\u001b[1mOutput Shape          \u001b[0m\u001b[1m \u001b[0m┃\u001b[1m \u001b[0m\u001b[1m      Param #\u001b[0m\u001b[1m \u001b[0m┃\n",
              "┡━━━━━━━━━━━━━━━━━━━━━━━━━━━━━━━━━╇━━━━━━━━━━━━━━━━━━━━━━━━╇━━━━━━━━━━━━━━━┩\n",
              "│ vgg16 (\u001b[38;5;33mFunctional\u001b[0m)              │ (\u001b[38;5;45mNone\u001b[0m, \u001b[38;5;34m4\u001b[0m, \u001b[38;5;34m4\u001b[0m, \u001b[38;5;34m512\u001b[0m)      │    \u001b[38;5;34m14,714,688\u001b[0m │\n",
              "├─────────────────────────────────┼────────────────────────┼───────────────┤\n",
              "│ flatten (\u001b[38;5;33mFlatten\u001b[0m)               │ (\u001b[38;5;45mNone\u001b[0m, \u001b[38;5;34m8192\u001b[0m)           │             \u001b[38;5;34m0\u001b[0m │\n",
              "├─────────────────────────────────┼────────────────────────┼───────────────┤\n",
              "│ dense (\u001b[38;5;33mDense\u001b[0m)                   │ (\u001b[38;5;45mNone\u001b[0m, \u001b[38;5;34m128\u001b[0m)            │     \u001b[38;5;34m1,048,704\u001b[0m │\n",
              "├─────────────────────────────────┼────────────────────────┼───────────────┤\n",
              "│ dense_1 (\u001b[38;5;33mDense\u001b[0m)                 │ (\u001b[38;5;45mNone\u001b[0m, \u001b[38;5;34m1\u001b[0m)              │           \u001b[38;5;34m129\u001b[0m │\n",
              "└─────────────────────────────────┴────────────────────────┴───────────────┘\n"
            ]
          },
          "metadata": {},
          "output_type": "display_data"
        },
        {
          "data": {
            "text/html": [
              "<pre style=\"white-space:pre;overflow-x:auto;line-height:normal;font-family:Menlo,'DejaVu Sans Mono',consolas,'Courier New',monospace\"><span style=\"font-weight: bold\"> Total params: </span><span style=\"color: #00af00; text-decoration-color: #00af00\">15,763,521</span> (60.13 MB)\n",
              "</pre>\n"
            ],
            "text/plain": [
              "\u001b[1m Total params: \u001b[0m\u001b[38;5;34m15,763,521\u001b[0m (60.13 MB)\n"
            ]
          },
          "metadata": {},
          "output_type": "display_data"
        },
        {
          "data": {
            "text/html": [
              "<pre style=\"white-space:pre;overflow-x:auto;line-height:normal;font-family:Menlo,'DejaVu Sans Mono',consolas,'Courier New',monospace\"><span style=\"font-weight: bold\"> Trainable params: </span><span style=\"color: #00af00; text-decoration-color: #00af00\">8,128,257</span> (31.01 MB)\n",
              "</pre>\n"
            ],
            "text/plain": [
              "\u001b[1m Trainable params: \u001b[0m\u001b[38;5;34m8,128,257\u001b[0m (31.01 MB)\n"
            ]
          },
          "metadata": {},
          "output_type": "display_data"
        },
        {
          "data": {
            "text/html": [
              "<pre style=\"white-space:pre;overflow-x:auto;line-height:normal;font-family:Menlo,'DejaVu Sans Mono',consolas,'Courier New',monospace\"><span style=\"font-weight: bold\"> Non-trainable params: </span><span style=\"color: #00af00; text-decoration-color: #00af00\">7,635,264</span> (29.13 MB)\n",
              "</pre>\n"
            ],
            "text/plain": [
              "\u001b[1m Non-trainable params: \u001b[0m\u001b[38;5;34m7,635,264\u001b[0m (29.13 MB)\n"
            ]
          },
          "metadata": {},
          "output_type": "display_data"
        }
      ],
      "source": [
        "model.summary()"
      ]
    },
    {
      "cell_type": "code",
      "execution_count": null,
      "metadata": {
        "id": "VwUqMf3xEq4t"
      },
      "outputs": [],
      "source": [
        "model.compile(optimizer='adam'\n",
        ",loss='binary_crossentropy',metrics=['accuracy'])"
      ]
    },
    {
      "cell_type": "code",
      "execution_count": null,
      "metadata": {
        "colab": {
          "base_uri": "https://localhost:8080/"
        },
        "id": "bCv_WW6FaBo-",
        "outputId": "de39e63f-44ec-41de-d424-f8df89f74cf7"
      },
      "outputs": [
        {
          "data": {
            "text/plain": [
              "21"
            ]
          },
          "execution_count": 28,
          "metadata": {},
          "output_type": "execute_result"
        }
      ],
      "source": [
        "len(train_generator)"
      ]
    },
    {
      "cell_type": "code",
      "execution_count": null,
      "metadata": {
        "colab": {
          "base_uri": "https://localhost:8080/"
        },
        "id": "2Tb7yUGuE-tK",
        "outputId": "9377ba39-7d3b-49ab-cf4b-eef6f8524726"
      },
      "outputs": [
        {
          "name": "stderr",
          "output_type": "stream",
          "text": [
            "/usr/local/lib/python3.11/dist-packages/keras/src/trainers/data_adapters/py_dataset_adapter.py:121: UserWarning: Your `PyDataset` class should call `super().__init__(**kwargs)` in its constructor. `**kwargs` can include `workers`, `use_multiprocessing`, `max_queue_size`. Do not pass these arguments to `fit()`, as they will be ignored.\n",
            "  self._warn_if_super_not_called()\n"
          ]
        },
        {
          "name": "stdout",
          "output_type": "stream",
          "text": [
            "Epoch 1/20\n",
            "\u001b[1m7/7\u001b[0m \u001b[32m━━━━━━━━━━━━━━━━━━━━\u001b[0m\u001b[37m\u001b[0m \u001b[1m23s\u001b[0m 3s/step - accuracy: 0.5642 - loss: 0.9815\n",
            "Epoch 2/20\n",
            "\u001b[1m7/7\u001b[0m \u001b[32m━━━━━━━━━━━━━━━━━━━━\u001b[0m\u001b[37m\u001b[0m \u001b[1m18s\u001b[0m 3s/step - accuracy: 0.5061 - loss: 0.9513\n",
            "Epoch 3/20\n",
            "\u001b[1m7/7\u001b[0m \u001b[32m━━━━━━━━━━━━━━━━━━━━\u001b[0m\u001b[37m\u001b[0m \u001b[1m16s\u001b[0m 2s/step - accuracy: 0.7226 - loss: 0.6475\n",
            "Epoch 4/20\n",
            "\u001b[1m7/7\u001b[0m \u001b[32m━━━━━━━━━━━━━━━━━━━━\u001b[0m\u001b[37m\u001b[0m \u001b[1m46s\u001b[0m 3s/step - accuracy: 0.5462 - loss: 0.6914\n",
            "Epoch 5/20\n",
            "\u001b[1m7/7\u001b[0m \u001b[32m━━━━━━━━━━━━━━━━━━━━\u001b[0m\u001b[37m\u001b[0m \u001b[1m18s\u001b[0m 3s/step - accuracy: 0.5671 - loss: 0.6897\n",
            "Epoch 6/20\n",
            "\u001b[1m7/7\u001b[0m \u001b[32m━━━━━━━━━━━━━━━━━━━━\u001b[0m\u001b[37m\u001b[0m \u001b[1m21s\u001b[0m 3s/step - accuracy: 0.5690 - loss: 0.6887\n",
            "Epoch 7/20\n",
            "\u001b[1m7/7\u001b[0m \u001b[32m━━━━━━━━━━━━━━━━━━━━\u001b[0m\u001b[37m\u001b[0m \u001b[1m44s\u001b[0m 3s/step - accuracy: 0.5840 - loss: 0.6869\n",
            "Epoch 8/20\n",
            "\u001b[1m7/7\u001b[0m \u001b[32m━━━━━━━━━━━━━━━━━━━━\u001b[0m\u001b[37m\u001b[0m \u001b[1m20s\u001b[0m 3s/step - accuracy: 0.6299 - loss: 0.6879\n",
            "Epoch 9/20\n",
            "\u001b[1m7/7\u001b[0m \u001b[32m━━━━━━━━━━━━━━━━━━━━\u001b[0m\u001b[37m\u001b[0m \u001b[1m17s\u001b[0m 2s/step - accuracy: 0.4028 - loss: 0.7783\n",
            "Epoch 10/20\n",
            "\u001b[1m7/7\u001b[0m \u001b[32m━━━━━━━━━━━━━━━━━━━━\u001b[0m\u001b[37m\u001b[0m \u001b[1m18s\u001b[0m 3s/step - accuracy: 0.5689 - loss: 0.6748\n",
            "Epoch 11/20\n",
            "\u001b[1m7/7\u001b[0m \u001b[32m━━━━━━━━━━━━━━━━━━━━\u001b[0m\u001b[37m\u001b[0m \u001b[1m19s\u001b[0m 3s/step - accuracy: 0.6301 - loss: 0.6715\n",
            "Epoch 12/20\n",
            "\u001b[1m7/7\u001b[0m \u001b[32m━━━━━━━━━━━━━━━━━━━━\u001b[0m\u001b[37m\u001b[0m \u001b[1m17s\u001b[0m 2s/step - accuracy: 0.5483 - loss: 0.6425\n",
            "Epoch 13/20\n",
            "\u001b[1m7/7\u001b[0m \u001b[32m━━━━━━━━━━━━━━━━━━━━\u001b[0m\u001b[37m\u001b[0m \u001b[1m46s\u001b[0m 3s/step - accuracy: 0.5888 - loss: 0.6637\n",
            "Epoch 14/20\n",
            "\u001b[1m7/7\u001b[0m \u001b[32m━━━━━━━━━━━━━━━━━━━━\u001b[0m\u001b[37m\u001b[0m \u001b[1m18s\u001b[0m 3s/step - accuracy: 0.4672 - loss: 0.6782\n",
            "Epoch 15/20\n",
            "\u001b[1m7/7\u001b[0m \u001b[32m━━━━━━━━━━━━━━━━━━━━\u001b[0m\u001b[37m\u001b[0m \u001b[1m18s\u001b[0m 3s/step - accuracy: 0.6195 - loss: 0.6199\n",
            "Epoch 16/20\n",
            "\u001b[1m7/7\u001b[0m \u001b[32m━━━━━━━━━━━━━━━━━━━━\u001b[0m\u001b[37m\u001b[0m \u001b[1m20s\u001b[0m 3s/step - accuracy: 0.4595 - loss: 0.6725\n",
            "Epoch 17/20\n",
            "\u001b[1m7/7\u001b[0m \u001b[32m━━━━━━━━━━━━━━━━━━━━\u001b[0m\u001b[37m\u001b[0m \u001b[1m17s\u001b[0m 2s/step - accuracy: 0.6570 - loss: 0.7024\n",
            "Epoch 18/20\n",
            "\u001b[1m7/7\u001b[0m \u001b[32m━━━━━━━━━━━━━━━━━━━━\u001b[0m\u001b[37m\u001b[0m \u001b[1m18s\u001b[0m 3s/step - accuracy: 0.6698 - loss: 0.6795\n",
            "Epoch 19/20\n",
            "\u001b[1m7/7\u001b[0m \u001b[32m━━━━━━━━━━━━━━━━━━━━\u001b[0m\u001b[37m\u001b[0m \u001b[1m19s\u001b[0m 2s/step - accuracy: 0.4937 - loss: 0.6835\n",
            "Epoch 20/20\n",
            "\u001b[1m7/7\u001b[0m \u001b[32m━━━━━━━━━━━━━━━━━━━━\u001b[0m\u001b[37m\u001b[0m \u001b[1m18s\u001b[0m 3s/step - accuracy: 0.6075 - loss: 0.6849\n"
          ]
        },
        {
          "data": {
            "text/plain": [
              "<keras.src.callbacks.history.History at 0x7b0f450a3310>"
            ]
          },
          "execution_count": 30,
          "metadata": {},
          "output_type": "execute_result"
        }
      ],
      "source": [
        "model.fit(\n",
        "    train_generator,\n",
        "    epochs=20,\n",
        "    batch_size=10,\n",
        "    steps_per_epoch=7\n",
        ")"
      ]
    },
    {
      "cell_type": "code",
      "execution_count": null,
      "metadata": {
        "colab": {
          "base_uri": "https://localhost:8080/",
          "height": 277
        },
        "id": "xqD7T4UHFpfv",
        "outputId": "f81e697b-08f9-469c-df2b-0dcf7b4b0b27"
      },
      "outputs": [
        {
          "data": {
            "text/html": [
              "<pre style=\"white-space:pre;overflow-x:auto;line-height:normal;font-family:Menlo,'DejaVu Sans Mono',consolas,'Courier New',monospace\"><span style=\"font-weight: bold\">Model: \"sequential\"</span>\n",
              "</pre>\n"
            ],
            "text/plain": [
              "\u001b[1mModel: \"sequential\"\u001b[0m\n"
            ]
          },
          "metadata": {},
          "output_type": "display_data"
        },
        {
          "data": {
            "text/html": [
              "<pre style=\"white-space:pre;overflow-x:auto;line-height:normal;font-family:Menlo,'DejaVu Sans Mono',consolas,'Courier New',monospace\">┏━━━━━━━━━━━━━━━━━━━━━━━━━━━━━━━━━┳━━━━━━━━━━━━━━━━━━━━━━━━┳━━━━━━━━━━━━━━━┓\n",
              "┃<span style=\"font-weight: bold\"> Layer (type)                    </span>┃<span style=\"font-weight: bold\"> Output Shape           </span>┃<span style=\"font-weight: bold\">       Param # </span>┃\n",
              "┡━━━━━━━━━━━━━━━━━━━━━━━━━━━━━━━━━╇━━━━━━━━━━━━━━━━━━━━━━━━╇━━━━━━━━━━━━━━━┩\n",
              "│ vgg16 (<span style=\"color: #0087ff; text-decoration-color: #0087ff\">Functional</span>)              │ (<span style=\"color: #00d7ff; text-decoration-color: #00d7ff\">None</span>, <span style=\"color: #00af00; text-decoration-color: #00af00\">4</span>, <span style=\"color: #00af00; text-decoration-color: #00af00\">4</span>, <span style=\"color: #00af00; text-decoration-color: #00af00\">512</span>)      │    <span style=\"color: #00af00; text-decoration-color: #00af00\">14,714,688</span> │\n",
              "├─────────────────────────────────┼────────────────────────┼───────────────┤\n",
              "│ flatten (<span style=\"color: #0087ff; text-decoration-color: #0087ff\">Flatten</span>)               │ (<span style=\"color: #00d7ff; text-decoration-color: #00d7ff\">None</span>, <span style=\"color: #00af00; text-decoration-color: #00af00\">8192</span>)           │             <span style=\"color: #00af00; text-decoration-color: #00af00\">0</span> │\n",
              "├─────────────────────────────────┼────────────────────────┼───────────────┤\n",
              "│ dense (<span style=\"color: #0087ff; text-decoration-color: #0087ff\">Dense</span>)                   │ (<span style=\"color: #00d7ff; text-decoration-color: #00d7ff\">None</span>, <span style=\"color: #00af00; text-decoration-color: #00af00\">128</span>)            │     <span style=\"color: #00af00; text-decoration-color: #00af00\">1,048,704</span> │\n",
              "├─────────────────────────────────┼────────────────────────┼───────────────┤\n",
              "│ dense_1 (<span style=\"color: #0087ff; text-decoration-color: #0087ff\">Dense</span>)                 │ (<span style=\"color: #00d7ff; text-decoration-color: #00d7ff\">None</span>, <span style=\"color: #00af00; text-decoration-color: #00af00\">1</span>)              │           <span style=\"color: #00af00; text-decoration-color: #00af00\">129</span> │\n",
              "└─────────────────────────────────┴────────────────────────┴───────────────┘\n",
              "</pre>\n"
            ],
            "text/plain": [
              "┏━━━━━━━━━━━━━━━━━━━━━━━━━━━━━━━━━┳━━━━━━━━━━━━━━━━━━━━━━━━┳━━━━━━━━━━━━━━━┓\n",
              "┃\u001b[1m \u001b[0m\u001b[1mLayer (type)                   \u001b[0m\u001b[1m \u001b[0m┃\u001b[1m \u001b[0m\u001b[1mOutput Shape          \u001b[0m\u001b[1m \u001b[0m┃\u001b[1m \u001b[0m\u001b[1m      Param #\u001b[0m\u001b[1m \u001b[0m┃\n",
              "┡━━━━━━━━━━━━━━━━━━━━━━━━━━━━━━━━━╇━━━━━━━━━━━━━━━━━━━━━━━━╇━━━━━━━━━━━━━━━┩\n",
              "│ vgg16 (\u001b[38;5;33mFunctional\u001b[0m)              │ (\u001b[38;5;45mNone\u001b[0m, \u001b[38;5;34m4\u001b[0m, \u001b[38;5;34m4\u001b[0m, \u001b[38;5;34m512\u001b[0m)      │    \u001b[38;5;34m14,714,688\u001b[0m │\n",
              "├─────────────────────────────────┼────────────────────────┼───────────────┤\n",
              "│ flatten (\u001b[38;5;33mFlatten\u001b[0m)               │ (\u001b[38;5;45mNone\u001b[0m, \u001b[38;5;34m8192\u001b[0m)           │             \u001b[38;5;34m0\u001b[0m │\n",
              "├─────────────────────────────────┼────────────────────────┼───────────────┤\n",
              "│ dense (\u001b[38;5;33mDense\u001b[0m)                   │ (\u001b[38;5;45mNone\u001b[0m, \u001b[38;5;34m128\u001b[0m)            │     \u001b[38;5;34m1,048,704\u001b[0m │\n",
              "├─────────────────────────────────┼────────────────────────┼───────────────┤\n",
              "│ dense_1 (\u001b[38;5;33mDense\u001b[0m)                 │ (\u001b[38;5;45mNone\u001b[0m, \u001b[38;5;34m1\u001b[0m)              │           \u001b[38;5;34m129\u001b[0m │\n",
              "└─────────────────────────────────┴────────────────────────┴───────────────┘\n"
            ]
          },
          "metadata": {},
          "output_type": "display_data"
        },
        {
          "data": {
            "text/html": [
              "<pre style=\"white-space:pre;overflow-x:auto;line-height:normal;font-family:Menlo,'DejaVu Sans Mono',consolas,'Courier New',monospace\"><span style=\"font-weight: bold\"> Total params: </span><span style=\"color: #00af00; text-decoration-color: #00af00\">32,020,037</span> (122.15 MB)\n",
              "</pre>\n"
            ],
            "text/plain": [
              "\u001b[1m Total params: \u001b[0m\u001b[38;5;34m32,020,037\u001b[0m (122.15 MB)\n"
            ]
          },
          "metadata": {},
          "output_type": "display_data"
        },
        {
          "data": {
            "text/html": [
              "<pre style=\"white-space:pre;overflow-x:auto;line-height:normal;font-family:Menlo,'DejaVu Sans Mono',consolas,'Courier New',monospace\"><span style=\"font-weight: bold\"> Trainable params: </span><span style=\"color: #00af00; text-decoration-color: #00af00\">8,128,257</span> (31.01 MB)\n",
              "</pre>\n"
            ],
            "text/plain": [
              "\u001b[1m Trainable params: \u001b[0m\u001b[38;5;34m8,128,257\u001b[0m (31.01 MB)\n"
            ]
          },
          "metadata": {},
          "output_type": "display_data"
        },
        {
          "data": {
            "text/html": [
              "<pre style=\"white-space:pre;overflow-x:auto;line-height:normal;font-family:Menlo,'DejaVu Sans Mono',consolas,'Courier New',monospace\"><span style=\"font-weight: bold\"> Non-trainable params: </span><span style=\"color: #00af00; text-decoration-color: #00af00\">7,635,264</span> (29.13 MB)\n",
              "</pre>\n"
            ],
            "text/plain": [
              "\u001b[1m Non-trainable params: \u001b[0m\u001b[38;5;34m7,635,264\u001b[0m (29.13 MB)\n"
            ]
          },
          "metadata": {},
          "output_type": "display_data"
        },
        {
          "data": {
            "text/html": [
              "<pre style=\"white-space:pre;overflow-x:auto;line-height:normal;font-family:Menlo,'DejaVu Sans Mono',consolas,'Courier New',monospace\"><span style=\"font-weight: bold\"> Optimizer params: </span><span style=\"color: #00af00; text-decoration-color: #00af00\">16,256,516</span> (62.01 MB)\n",
              "</pre>\n"
            ],
            "text/plain": [
              "\u001b[1m Optimizer params: \u001b[0m\u001b[38;5;34m16,256,516\u001b[0m (62.01 MB)\n"
            ]
          },
          "metadata": {},
          "output_type": "display_data"
        }
      ],
      "source": [
        "model.summary()"
      ]
    },
    {
      "cell_type": "code",
      "execution_count": null,
      "metadata": {
        "id": "j8rWZwR8mRM7"
      },
      "outputs": [],
      "source": [
        "happy_img=load_img('/content/happy_test.jpg',target_size=(150,150))"
      ]
    },
    {
      "cell_type": "code",
      "execution_count": null,
      "metadata": {
        "colab": {
          "base_uri": "https://localhost:8080/",
          "height": 167
        },
        "id": "CCKuW_htnB4n",
        "outputId": "5e94235c-d21d-4db5-d2a8-a2fec8b70664"
      },
      "outputs": [
        {
          "data": {
            "image/jpeg": "[encoded data removed]",
            "image/png": "[encoded data removed]",
            "text/plain": [
              "<PIL.Image.Image image mode=RGB size=150x150>"
            ]
          },
          "execution_count": 34,
          "metadata": {},
          "output_type": "execute_result"
        }
      ],
      "source": [
        "happy_img"
      ]
    },
    {
      "cell_type": "code",
      "execution_count": null,
      "metadata": {
        "colab": {
          "base_uri": "https://localhost:8080/"
        },
        "id": "tQIu-B-knsH9",
        "outputId": "b98f5d6d-930c-487b-e75c-22c1bd379193"
      },
      "outputs": [
        {
          "data": {
            "text/plain": [
              "{'happy_person_face': 0, 'sad_person_face': 1}"
            ]
          },
          "execution_count": 39,
          "metadata": {},
          "output_type": "execute_result"
        }
      ],
      "source": [
        "train_generator.class_indices"
      ]
    },
    {
      "cell_type": "code",
      "execution_count": null,
      "metadata": {
        "colab": {
          "base_uri": "https://localhost:8080/"
        },
        "id": "KeQqag81nDow",
        "outputId": "72a156ae-d053-4949-b8f5-04342bcd77bb"
      },
      "outputs": [
        {
          "name": "stdout",
          "output_type": "stream",
          "text": [
            "\u001b[1m1/1\u001b[0m \u001b[32m━━━━━━━━━━━━━━━━━━━━\u001b[0m\u001b[37m\u001b[0m \u001b[1m0s\u001b[0m 296ms/step\n"
          ]
        }
      ],
      "source": [
        "pred=0 if model.predict(img_to_array(happy_img).reshape(1,150,150,3))<0.5 else 1\n"
      ]
    },
    {
      "cell_type": "code",
      "execution_count": null,
      "metadata": {
        "colab": {
          "base_uri": "https://localhost:8080/"
        },
        "id": "o03gMVSPnJW8",
        "outputId": "c2676722-e275-4bb9-9a42-b675da4cc32a"
      },
      "outputs": [
        {
          "name": "stdout",
          "output_type": "stream",
          "text": [
            "the predicted value is happy\n"
          ]
        }
      ],
      "source": [
        "print(f\"the predicted value is {'happy' if pred ==0 else 'sad'}\")"
      ]
    },
    {
      "cell_type": "code",
      "execution_count": null,
      "metadata": {
        "id": "pxSXOb3YoAiV"
      },
      "outputs": [],
      "source": [
        "sad_img=load_img('/content/sad_test.jpg',target_size=(150,150))"
      ]
    },
    {
      "cell_type": "code",
      "execution_count": null,
      "metadata": {
        "colab": {
          "base_uri": "https://localhost:8080/",
          "height": 167
        },
        "id": "yZt7Rq5DoBBC",
        "outputId": "00091c98-9d1b-4dbf-c0e5-9fb2eeaa00b5"
      },
      "outputs": [
        {
          "data": {
            "image/jpeg": "[encoded data removed]",
            "image/png": "[encoded data removed]",
            "text/plain": [
              "<PIL.Image.Image image mode=RGB size=150x150>"
            ]
          },
          "execution_count": 46,
          "metadata": {},
          "output_type": "execute_result"
        }
      ],
      "source": [
        "sad_img\n"
      ]
    },
    {
      "cell_type": "code",
      "execution_count": null,
      "metadata": {
        "colab": {
          "base_uri": "https://localhost:8080/"
        },
        "id": "CLgVM6IbomR8",
        "outputId": "a99251f9-039c-4e85-ef8d-14d183a74ff3"
      },
      "outputs": [
        {
          "name": "stdout",
          "output_type": "stream",
          "text": [
            "\u001b[1m1/1\u001b[0m \u001b[32m━━━━━━━━━━━━━━━━━━━━\u001b[0m\u001b[37m\u001b[0m \u001b[1m0s\u001b[0m 432ms/step\n"
          ]
        }
      ],
      "source": [
        "pred_1=0 if model.predict(img_to_array(sad_img).reshape(1,150,150,3))<0.5 else 1"
      ]
    },
    {
      "cell_type": "code",
      "execution_count": null,
      "metadata": {
        "colab": {
          "base_uri": "https://localhost:8080/"
        },
        "id": "9Ix-m2hdouJz",
        "outputId": "db925605-dc21-4e60-a382-e50c7ee6e839"
      },
      "outputs": [
        {
          "name": "stdout",
          "output_type": "stream",
          "text": [
            "the predicted value is happy\n"
          ]
        }
      ],
      "source": [
        "print(f\"the predicted value is {'happy' if pred ==0 else 'sad'}\")"
      ]
    },
    {
      "cell_type": "code",
      "execution_count": null,
      "metadata": {
        "id": "oBrTnEMpo75B"
      },
      "outputs": [],
      "source": [
        "vgg=VGG16(weights='imagenet',include_top=False,input_shape=(150,150,3))"
      ]
    },
    {
      "cell_type": "code",
      "execution_count": null,
      "metadata": {
        "id": "3NtaqEPIpAKJ"
      },
      "outputs": [],
      "source": [
        "vgg.trainable=False"
      ]
    },
    {
      "cell_type": "code",
      "execution_count": null,
      "metadata": {
        "id": "n2G3LNLNowdk"
      },
      "outputs": [],
      "source": [
        "model2=Sequential()\n",
        "model2.add(vgg)\n",
        "model2.add(Flatten())\n",
        "model2.add(Dense(128,activation='relu'))\n",
        "model2.add(Dense(1,activation='sigmoid'))"
      ]
    },
    {
      "cell_type": "code",
      "execution_count": null,
      "metadata": {
        "id": "E2xkKyTmpLRX"
      },
      "outputs": [],
      "source": [
        "model2.compile(optimizer='Adam',metrics=['accuracy'],loss='binary_crossentropy')"
      ]
    },
    {
      "cell_type": "code",
      "execution_count": null,
      "metadata": {
        "colab": {
          "background_save": true,
          "base_uri": "https://localhost:8080/"
        },
        "id": "ryyZ-7ZrpR-G",
        "outputId": "e5f364d0-4998-4085-8d67-e465ff2fd942"
      },
      "outputs": [
        {
          "name": "stderr",
          "output_type": "stream",
          "text": [
            "/usr/local/lib/python3.11/dist-packages/keras/src/trainers/data_adapters/py_dataset_adapter.py:121: UserWarning: Your `PyDataset` class should call `super().__init__(**kwargs)` in its constructor. `**kwargs` can include `workers`, `use_multiprocessing`, `max_queue_size`. Do not pass these arguments to `fit()`, as they will be ignored.\n",
            "  self._warn_if_super_not_called()\n"
          ]
        },
        {
          "name": "stdout",
          "output_type": "stream",
          "text": [
            "Epoch 1/20\n",
            "\u001b[1m11/11\u001b[0m \u001b[32m━━━━━━━━━━━━━━━━━━━━\u001b[0m\u001b[37m\u001b[0m \u001b[1m47s\u001b[0m 4s/step - accuracy: 0.6242 - loss: 0.6297\n",
            "Epoch 2/20\n",
            "\u001b[1m11/11\u001b[0m \u001b[32m━━━━━━━━━━━━━━━━━━━━\u001b[0m\u001b[37m\u001b[0m \u001b[1m45s\u001b[0m 4s/step - accuracy: 0.6353 - loss: 0.6478\n",
            "Epoch 3/20\n",
            "\u001b[1m11/11\u001b[0m \u001b[32m━━━━━━━━━━━━━━━━━━━━\u001b[0m\u001b[37m\u001b[0m \u001b[1m81s\u001b[0m 4s/step - accuracy: 0.5995 - loss: 0.6249\n",
            "Epoch 4/20\n",
            "\u001b[1m11/11\u001b[0m \u001b[32m━━━━━━━━━━━━━━━━━━━━\u001b[0m\u001b[37m\u001b[0m \u001b[1m82s\u001b[0m 4s/step - accuracy: 0.6840 - loss: 0.6033\n",
            "Epoch 5/20\n",
            "\u001b[1m11/11\u001b[0m \u001b[32m━━━━━━━━━━━━━━━━━━━━\u001b[0m\u001b[37m\u001b[0m \u001b[1m82s\u001b[0m 4s/step - accuracy: 0.6303 - loss: 0.6015\n",
            "Epoch 6/20\n",
            "\u001b[1m11/11\u001b[0m \u001b[32m━━━━━━━━━━━━━━━━━━━━\u001b[0m\u001b[37m\u001b[0m \u001b[1m82s\u001b[0m 4s/step - accuracy: 0.6941 - loss: 0.5719\n",
            "Epoch 7/20\n",
            "\u001b[1m11/11\u001b[0m \u001b[32m━━━━━━━━━━━━━━━━━━━━\u001b[0m\u001b[37m\u001b[0m \u001b[1m45s\u001b[0m 4s/step - accuracy: 0.6544 - loss: 0.6164\n",
            "Epoch 8/20\n",
            "\u001b[1m11/11\u001b[0m \u001b[32m━━━━━━━━━━━━━━━━━━━━\u001b[0m\u001b[37m\u001b[0m \u001b[1m46s\u001b[0m 4s/step - accuracy: 0.7175 - loss: 0.5835\n",
            "Epoch 9/20\n",
            "\u001b[1m11/11\u001b[0m \u001b[32m━━━━━━━━━━━━━━━━━━━━\u001b[0m\u001b[37m\u001b[0m \u001b[1m80s\u001b[0m 4s/step - accuracy: 0.6894 - loss: 0.5601\n",
            "Epoch 10/20\n",
            "\u001b[1m11/11\u001b[0m \u001b[32m━━━━━━━━━━━━━━━━━━━━\u001b[0m\u001b[37m\u001b[0m \u001b[1m45s\u001b[0m 4s/step - accuracy: 0.6603 - loss: 0.5778\n",
            "Epoch 11/20\n",
            "\u001b[1m11/11\u001b[0m \u001b[32m━━━━━━━━━━━━━━━━━━━━\u001b[0m\u001b[37m\u001b[0m \u001b[1m82s\u001b[0m 4s/step - accuracy: 0.7203 - loss: 0.5376\n",
            "Epoch 12/20\n",
            "\u001b[1m11/11\u001b[0m \u001b[32m━━━━━━━━━━━━━━━━━━━━\u001b[0m\u001b[37m\u001b[0m \u001b[1m46s\u001b[0m 4s/step - accuracy: 0.7178 - loss: 0.5871\n",
            "Epoch 13/20\n",
            "\u001b[1m11/11\u001b[0m \u001b[32m━━━━━━━━━━━━━━━━━━━━\u001b[0m\u001b[37m\u001b[0m \u001b[1m45s\u001b[0m 4s/step - accuracy: 0.6647 - loss: 0.5771\n",
            "Epoch 14/20\n",
            "\u001b[1m11/11\u001b[0m \u001b[32m━━━━━━━━━━━━━━━━━━━━\u001b[0m\u001b[37m\u001b[0m \u001b[1m44s\u001b[0m 4s/step - accuracy: 0.7221 - loss: 0.5794\n",
            "Epoch 15/20\n",
            "\u001b[1m11/11\u001b[0m \u001b[32m━━━━━━━━━━━━━━━━━━━━\u001b[0m\u001b[37m\u001b[0m \u001b[1m83s\u001b[0m 4s/step - accuracy: 0.6914 - loss: 0.5410\n",
            "Epoch 16/20\n",
            "\u001b[1m11/11\u001b[0m \u001b[32m━━━━━━━━━━━━━━━━━━━━\u001b[0m\u001b[37m\u001b[0m \u001b[1m44s\u001b[0m 4s/step - accuracy: 0.6707 - loss: 0.5455\n",
            "Epoch 17/20\n",
            "\u001b[1m11/11\u001b[0m \u001b[32m━━━━━━━━━━━━━━━━━━━━\u001b[0m\u001b[37m\u001b[0m \u001b[1m47s\u001b[0m 4s/step - accuracy: 0.7463 - loss: 0.5033\n",
            "Epoch 18/20\n",
            "\u001b[1m11/11\u001b[0m \u001b[32m━━━━━━━━━━━━━━━━━━━━\u001b[0m\u001b[37m\u001b[0m \u001b[1m44s\u001b[0m 4s/step - accuracy: 0.6667 - loss: 0.5503\n",
            "Epoch 19/20\n",
            "\u001b[1m11/11\u001b[0m \u001b[32m━━━━━━━━━━━━━━━━━━━━\u001b[0m\u001b[37m\u001b[0m \u001b[1m83s\u001b[0m 4s/step - accuracy: 0.6318 - loss: 0.5661\n",
            "Epoch 20/20\n",
            "\u001b[1m11/11\u001b[0m \u001b[32m━━━━━━━━━━━━━━━━━━━━\u001b[0m\u001b[37m\u001b[0m \u001b[1m44s\u001b[0m 4s/step - accuracy: 0.7539 - loss: 0.5020\n"
          ]
        }
      ],
      "source": [
        "history=model2.fit(\n",
        "    train_generator,\n",
        "    epochs=20,\n",
        "    verbose=1,\n",
        "    steps_per_epoch=11\n",
        ")"
      ]
    },
    {
      "cell_type": "code",
      "execution_count": null,
      "metadata": {
        "id": "2r5il4HxpfTI"
      },
      "outputs": [],
      "source": []
    }
  ],
  "metadata": {
    "colab": {
      "provenance": [],
      "authorship_tag": "ABX9TyODcM330B9AXCZ179dC6SbY",
      "include_colab_link": true
    },
    "kernelspec": {
      "display_name": "Python 3",
      "name": "python3"
    },
    "language_info": {
      "name": "python"
    }
  },
  "nbformat": 4,
  "nbformat_minor": 0
}